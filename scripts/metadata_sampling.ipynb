{
 "cells": [
  {
   "cell_type": "code",
   "execution_count": 1,
   "metadata": {},
   "outputs": [],
   "source": [
    "# Importing libraries\n",
    "import os\n",
    "import pandas as pd\n",
    "import numpy as np"
   ]
  },
  {
   "cell_type": "code",
   "execution_count": 2,
   "metadata": {},
   "outputs": [],
   "source": [
    "# Function to merge all metadata csv files\n",
    "def merge_csv_files(input_folder, output_file):\n",
    "    all_files = [f for f in os.listdir(input_folder) if f.startswith('metadata_page_') and f.endswith('.csv')]\n",
    "    all_files.sort(key=lambda f: int(f.split('_')[-1].split('.')[0]))  # Ensure the files are sorted\n",
    "\n",
    "    dataframes = []\n",
    "    \n",
    "    for file in all_files:\n",
    "        df = pd.read_csv(os.path.join(input_folder, file))\n",
    "        dataframes.append(df)\n",
    "    \n",
    "    # Concatenate all DataFrames, aligning columns\n",
    "    combined_df = pd.concat(dataframes, ignore_index=True, sort=False)\n",
    "    \n",
    "    # Save the combined DataFrame to a CSV file\n",
    "    combined_df.to_csv(output_file, index=False)\n",
    "    print(f\"Combined CSV saved to {output_file}\")"
   ]
  },
  {
   "cell_type": "code",
   "execution_count": 3,
   "metadata": {},
   "outputs": [
    {
     "name": "stdout",
     "output_type": "stream",
     "text": [
      "Combined CSV saved to /Users/eshan23/Library/CloudStorage/OneDrive-TheUniversityofChicago/Summer 2024/Shaoda_Wang_RA/wang-ml/scripts/../data/all_metadata.csv\n"
     ]
    }
   ],
   "source": [
    "# Define the input folder and output file\n",
    "current_dir = os.getcwd()\n",
    "input_folder = os.path.join(current_dir, '..', 'data', 'metadata')\n",
    "output_file = os.path.join(current_dir, '..', 'data', 'all_metadata.csv')\n",
    "\n",
    "# Merge the CSV files\n",
    "merge_csv_files(input_folder, output_file)"
   ]
  },
  {
   "cell_type": "code",
   "execution_count": 7,
   "metadata": {},
   "outputs": [
    {
     "data": {
      "text/plain": [
       "year\n",
       "2000.0     29\n",
       "2001.0     71\n",
       "2002.0     83\n",
       "2003.0    106\n",
       "2004.0    104\n",
       "2005.0     90\n",
       "2006.0     79\n",
       "2007.0     68\n",
       "2008.0     74\n",
       "2009.0     66\n",
       "2010.0     57\n",
       "2011.0     51\n",
       "2012.0     36\n",
       "2013.0     35\n",
       "2014.0     30\n",
       "2015.0     39\n",
       "2016.0     19\n",
       "2017.0     14\n",
       "2018.0     11\n",
       "2019.0      4\n",
       "2021.0      4\n",
       "2022.0      2\n",
       "2023.0      5\n",
       "Name: count, dtype: int64"
      ]
     },
     "execution_count": 7,
     "metadata": {},
     "output_type": "execute_result"
    }
   ],
   "source": [
    "# Examining the metadata availability across years\n",
    "# First we extract year from the column \"dc.date.issued\" if it exists\n",
    "metadata = pd.read_csv(output_file)\n",
    "metadata['year'] = metadata['dc.date.issued'].str.extract(r'(\\d{4})')\n",
    "metadata['year'] = metadata['year'].astype(float)\n",
    "\n",
    "# Table showing the metadata availability across years\n",
    "metadata['year'].value_counts().sort_index()"
   ]
  },
  {
   "cell_type": "code",
   "execution_count": 8,
   "metadata": {},
   "outputs": [
    {
     "data": {
      "text/plain": [
       "<Axes: title={'center': 'Metadata availability across years'}, xlabel='year'>"
      ]
     },
     "execution_count": 8,
     "metadata": {},
     "output_type": "execute_result"
    },
    {
     "data": {
      "image/png": "[encoded data removed]",
      "text/plain": [
       "<Figure size 640x480 with 1 Axes>"
      ]
     },
     "metadata": {},
     "output_type": "display_data"
    }
   ],
   "source": [
    "# Plot the metadata availability across years\n",
    "metadata['year'].value_counts().sort_index().plot(kind='bar', title='Metadata availability across years')"
   ]
  },
  {
   "attachments": {},
   "cell_type": "markdown",
   "metadata": {},
   "source": [
    "### Key Takeaways:\n",
    "1. Out of the ~1100 research papers, around 45% are from a 5 year period (2002-2006). \n",
    "2. Each of the 5 years from the 2002-2006 period cover between 7-10% of total papers\n",
    "3. To sample 400 papers from this distribution, we can take multiple approaches:\n",
    "\n",
    "    * **Unbiased:** 25 random papers from the first 16 years\n",
    "    * **Biased by completeness**: Given our task, we can give preference to papers who have _AI_ in the field _dc.subject_"
   ]
  },
  {
   "cell_type": "code",
   "execution_count": 14,
   "metadata": {},
   "outputs": [
    {
     "name": "stdout",
     "output_type": "stream",
     "text": [
      "Sampled DataFrame for 25 papers per year created and saved.\n"
     ]
    }
   ],
   "source": [
    "# First we sample 25 papers from each of the first 16 years\n",
    "\n",
    "# Create Research Paper ID if not already present\n",
    "if 'research_paper_id' not in metadata.columns:\n",
    "    metadata['research_paper_id'] = metadata.index + 1\n",
    "\n",
    "# Define number of years to sample from\n",
    "first_n_years = 16\n",
    "\n",
    "# Sample 25 papers from each of the first 16 years\n",
    "\n",
    "# First filter out data that doesn't have a value for year and convert to integer\n",
    "metadata = metadata[metadata['year'].notnull()]\n",
    "metadata['year'] = metadata['year'].astype(int)\n",
    "\n",
    "years_to_sample = range(metadata['year'].min(), metadata['year'].min() + first_n_years)\n",
    "samples = []\n",
    "for year in years_to_sample:\n",
    "    year_df = metadata[metadata['year'] == year]\n",
    "    sample = year_df.sample(n=min(25, len(year_df)), random_state=1)  # Ensure reproducibility\n",
    "    samples.append(sample)\n",
    "\n",
    "metadata_sampled_df_1 = pd.concat(samples)\n",
    "metadata_sampled_df_1.to_csv(os.path.join(current_dir, '..', 'data', 'metadata_sampled_25_per_year.csv'), index=False)\n",
    "print(\"Sampled DataFrame for 25 papers per year created and saved.\")"
   ]
  },
  {
   "cell_type": "code",
   "execution_count": 15,
   "metadata": {},
   "outputs": [
    {
     "name": "stdout",
     "output_type": "stream",
     "text": [
      "Sampled DataFrame for AI papers and additional random papers created and saved.\n"
     ]
    }
   ],
   "source": [
    "# Filter papers that have \"AI\" in the 'dc.subject' field\n",
    "ai_papers = metadata[metadata['dc.subject'].str.contains(r'\\bAI\\b', case=True, na=False, regex=True)]\n",
    "\n",
    "# Determine the number of additional papers needed to make up 400\n",
    "additional_papers_needed = 400 - len(ai_papers)\n",
    "\n",
    "# Randomly sample the remaining papers if needed\n",
    "if additional_papers_needed > 0:\n",
    "    remaining_papers = metadata[~metadata['research_paper_id'].isin(ai_papers['research_paper_id'])]\n",
    "    additional_sample = remaining_papers.sample(n=additional_papers_needed, random_state=1)\n",
    "    metadata_sampled_df_2 = pd.concat([ai_papers, additional_sample])\n",
    "else:\n",
    "    metadata_sampled_df_2 = ai_papers.sample(n=400, random_state=1)\n",
    "\n",
    "metadata_sampled_df_2.to_csv(os.path.join(current_dir, '..', 'data', 'metadata_sampled_ai_and_random.csv'), index=False)\n",
    "print(\"Sampled DataFrame for AI papers and additional random papers created and saved.\")"
   ]
  }
 ],
 "metadata": {
  "kernelspec": {
   "display_name": "wang-ml-ZjUsplGQ-py3.11",
   "language": "python",
   "name": "python3"
  },
  "language_info": {
   "codemirror_mode": {
    "name": "ipython",
    "version": 3
   },
   "file_extension": ".py",
   "mimetype": "text/x-python",
   "name": "python",
   "nbconvert_exporter": "python",
   "pygments_lexer": "ipython3",
   "version": "3.11.4"
  },
  "orig_nbformat": 4
 },
 "nbformat": 4,
 "nbformat_minor": 2
}
